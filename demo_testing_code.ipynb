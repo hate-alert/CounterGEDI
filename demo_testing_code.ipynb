{
 "cells": [
  {
   "cell_type": "code",
   "execution_count": null,
   "metadata": {},
   "outputs": [],
   "source": [
    "import os\n",
    "import torch\n",
    "import torch.nn.functional as F\n",
    "from transformers import GPT2Tokenizer, GPT2LMHeadModel, GPT2Config\n",
    "import numpy as np\n",
    "path = '/home/adarsh-binny/HULK/Saved_models/'"
   ]
  },
  {
   "cell_type": "code",
   "execution_count": null,
   "metadata": {},
   "outputs": [],
   "source": [
    "from transformers import AutoModelWithLMHead, AutoTokenizer\n",
    "import torch\n",
    "\n",
    "tokenizer = AutoTokenizer.from_pretrained(\"../HULK/Counterspeech/models/createdebate_model\",cache_dir=path)\n",
    "model = AutoModelWithLMHead.from_pretrained(\"../HULK/Counterspeech/models/createdebate_model\",cache_dir=path)"
   ]
  },
  {
   "cell_type": "code",
   "execution_count": null,
   "metadata": {},
   "outputs": [],
   "source": [
    "model.eval()"
   ]
  },
  {
   "cell_type": "code",
   "execution_count": null,
   "metadata": {},
   "outputs": [],
   "source": [
    "conditioned_tokens = []\n",
    "generated_tokens = []\n",
    "past = None\n",
    "fst = True\n",
    "DELIMITER = \"/n\"\n",
    "\n",
    "def reinput(user_msg):\n",
    "    global conditioned_tokens; global fst\n",
    "    os.system('cls' if os.name == 'nt' else 'clear')\n",
    "\n",
    "    conditioned_tokens = tokenizer.decode(conditioned_tokens)\n",
    "\n",
    "    print(\"Me: \" + user_msg + \"\\n\" + \"Bot: \",end='')\n",
    "\n",
    "    if fst:\n",
    "      fst = False\n",
    "      user_msg = \"<|endoftext|>\" + user_msg\n",
    "\n",
    "    user_msg = \"\" + user_msg\n",
    "    conditioned_tokens += user_msg \n",
    "    conditioned_tokens = tokenizer.encode(conditioned_tokens) \n",
    "    conditioned_tokens += [50256] # Append operator to prepend conversation history\n",
    "\n",
    "\n",
    "\n",
    "def top_p_filtering(logits, top_p=0.9, filter_value=-float('Inf')):\n",
    "  \"\"\"\n",
    "  Credit: https://gist.github.com/thomwolf/1a5a29f6962089e871b94cbd09daf317\n",
    "  \"\"\"\n",
    "  assert logits.dim() == 1  # batch size 1 for single word generation\n",
    "  sorted_logits, sorted_indices = torch.sort(logits, descending=True)\n",
    "  cumulative_probs = torch.cumsum(F.softmax(sorted_logits, dim=-1), dim=-1)\n",
    "  # remove tokens with cumulative probability above the threshold\n",
    "  sorted_indices_to_remove = cumulative_probs > top_p\n",
    "  # shift the indices to the right to keep also the first token above the threshold\n",
    "  sorted_indices_to_remove[..., 1:] = sorted_indices_to_remove[..., :-1].clone()\n",
    "  sorted_indices_to_remove[..., 0] = 0\n",
    "  indices_to_remove = sorted_indices[sorted_indices_to_remove]\n",
    "  logits[indices_to_remove] = filter_value\n",
    "  return logits\n",
    "\n",
    "\n",
    "def recalc(p=None):\n",
    "    global conditioned_tokens\n",
    "    global generated_tokens\n",
    "    global past\n",
    "\n",
    "    # for segment display purpose, keep 2 sets of tokens\n",
    "    indexed_tokens = conditioned_tokens + generated_tokens\n",
    "\n",
    "    tokens_tensor = torch.tensor([indexed_tokens])\n",
    "\n",
    "    #tokens_tensor = tokens_tensor\n",
    "    with torch.no_grad():\n",
    "        outputs = model(tokens_tensor)\n",
    "        predictions = outputs[0]\n",
    "    logits = predictions[0, -1, :]\n",
    "    filtered_logits = top_p_filtering(logits)\n",
    "    probabilities = F.softmax(filtered_logits, dim=-1)\n",
    "    next_token = torch.multinomial(probabilities, 1)\n",
    "    generated_tokens.append(next_token.item())\n",
    "    return next_token.item()\n",
    "\n",
    "def generate():\n",
    "    global conditioned_tokens\n",
    "    global generated_tokens\n",
    "    global past\n",
    "\n",
    "    while True:\n",
    "        if len(tokenizer.decode(conditioned_tokens)) > 320:\n",
    "          dc = tokenizer.decode(conditioned_tokens)\n",
    "          dc = dc[len(dc)-320:]\n",
    "          idx = dc.find(DELIMITER)\n",
    "          if idx != -1:\n",
    "            dc = dc[idx+len(DELIMITER):]\n",
    "            conditioned_tokens = tokenizer.encode(dc)\n",
    "\n",
    "        result = recalc()\n",
    "\n",
    "        if result == 50256:\n",
    "\n",
    "      # end-of-text : 50256\n",
    "      # use this special token to split segments\n",
    "\n",
    "            decoded_reply = tokenizer.decode(generated_tokens)\n",
    "\n",
    "            to_print = decoded_reply\n",
    "            if to_print.endswith(\"<|endoftext|>\"):\n",
    "              to_print = to_print[:-len(\"<|endoftext|>\")]\n",
    "              decoded_reply = to_print\n",
    "            print(to_print)\n",
    "\n",
    "            decoded_reply = \"\" + decoded_reply\n",
    "            decoded_reply = decoded_reply+DELIMITER\n",
    "            conditioned_tokens += (tokenizer.encode(decoded_reply))\n",
    "\n",
    "            # Remove end of text tokens from feeding back into model\n",
    "      # -- see here for reason https://github.com/huggingface/transformers/issues/429#issuecomment-479380117\n",
    "            cond_str = tokenizer.decode(conditioned_tokens)\n",
    "            cond_str = cond_str.replace(\"<|endoftext|>\",DELIMITER) # Since \"<end-of-text> (50256)\" is mapped to the newline character (\\n) by default when calling decode():\n",
    "            conditioned_tokens = tokenizer.encode(cond_str)\n",
    "\n",
    "    # Uncomment to debug (print) conversation history that is re-fed to the model\n",
    "    # cond_str = tokenizer.decode(conditioned_tokens)\n",
    "    # cond_str = cond_str.replace(\"<|endoftext_|>\",\"\\n\").replace(DELIMITER,\"\\n\") # Since \"<end-of-text> (50256)\" is mapped to the newline character (\\n) by default when calling decode():\n",
    "    # print(\"(condstr_dbg) \" + cond_str)\n",
    "    # print(r\"(/constr_dbg)\")\n",
    "\n",
    "            generated_tokens = []\n",
    "            break"
   ]
  },
  {
   "cell_type": "code",
   "execution_count": null,
   "metadata": {},
   "outputs": [],
   "source": [
    "from IPython.display import clear_output\n",
    "import logging\n",
    "\n",
    "from IPython.display import clear_output\n",
    "import logging\n",
    "\n",
    "def new_dialogue():\n",
    "\n",
    "  global conditioned_tokens\n",
    "  global generated_tokens\n",
    "  global past; global fst\n",
    "  \n",
    "  conditioned_tokens = []; generated_tokens = []; past = None; fst = True\n",
    "  reinput(\"What is the meaning of life?\")\n",
    "  generate()\n",
    "\n",
    "  while True:\n",
    "    cmd = input()\n",
    "\n",
    "    if cmd == \"reset\":\n",
    "      clear_output()\n",
    "      new_dialogue()\n",
    "      break\n",
    "\n",
    "    if cmd != \"\":\n",
    "      reinput(cmd)\n",
    "    generate()\n",
    "    "
   ]
  },
  {
   "cell_type": "code",
   "execution_count": null,
   "metadata": {},
   "outputs": [],
   "source": [
    "new_dialogue()"
   ]
  },
  {
   "cell_type": "code",
   "execution_count": 2,
   "metadata": {},
   "outputs": [
    {
     "name": "stderr",
     "output_type": "stream",
     "text": [
      "WARNING: There is a new version of neptune-client 0.9.1 (installed: 0.9.0).\n"
     ]
    },
    {
     "name": "stdout",
     "output_type": "stream",
     "text": [
      "https://app.neptune.ai/Hatespeech-CNERG/Counterspeech-generation/e/COUNTER-2\n"
     ]
    }
   ],
   "source": [
    "import neptune.new as neptune\n",
    "from apiconfig import project_name,api_token\n",
    "\n",
    "run = neptune.init(project=project_name,api_token=api_token)\n",
    "\n",
    "# Track metadata and hyperparameters of your run\n",
    "run[\"JIRA\"] = \"NPT-952\"\n",
    "run[\"parameters\"] = {\"learning_rate\": 0.001,\n",
    "                     \"optimizer\": \"Adam\"}\n",
    "\n",
    "# Track the training process by logging your training metrics\n",
    "for epoch in range(100):\n",
    "   run[\"train/accuracy\"].log(epoch * 0.6)\n",
    "   run[\"train/loss\"].log(epoch * 0.4)\n",
    "\n",
    "run[\"f1_score\"] = 0.66\n",
    "run.stop()"
   ]
  },
  {
   "cell_type": "code",
   "execution_count": null,
   "metadata": {},
   "outputs": [],
   "source": [
    "!pip install neptune-client==0.9"
   ]
  },
  {
   "cell_type": "code",
   "execution_count": null,
   "metadata": {},
   "outputs": [],
   "source": []
  },
  {
   "cell_type": "code",
   "execution_count": null,
   "metadata": {},
   "outputs": [],
   "source": []
  }
 ],
 "metadata": {
  "kernelspec": {
   "display_name": "Python [conda env:.conda-csgen] *",
   "language": "python",
   "name": "conda-env-.conda-csgen-py"
  },
  "language_info": {
   "codemirror_mode": {
    "name": "ipython",
    "version": 3
   },
   "file_extension": ".py",
   "mimetype": "text/x-python",
   "name": "python",
   "nbconvert_exporter": "python",
   "pygments_lexer": "ipython3",
   "version": "3.7.7"
  }
 },
 "nbformat": 4,
 "nbformat_minor": 4
}
