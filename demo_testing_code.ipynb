{
 "cells": [
  {
   "cell_type": "code",
<<<<<<< HEAD
   "execution_count": 16,
=======
   "execution_count": 39,
>>>>>>> ee3441ef3f5082a2baa730da1ac3546184891c45
   "metadata": {},
   "outputs": [],
   "source": [
    "import os\n",
    "import torch\n",
    "import torch.nn.functional as F\n",
    "from transformers import GPT2Tokenizer, GPT2LMHeadModel, GPT2Config,AutoModelForCausalLM\n",
    "import numpy as np\n",
<<<<<<< HEAD
    "path = '../HULK/Saved_models/'"
=======
    "path = '/home/adarsh-binny/HULK_new/Saved_models/'"
   ]
  },
  {
   "cell_type": "code",
   "execution_count": null,
   "metadata": {},
   "outputs": [],
   "source": [
    "\n",
    "tokenizer = AutoTokenizer.from_pretrained(\"../HULK/Counterspeech/Saved_Models/Generator/Humour_dexpert_gpt2_humor/\",cache_dir=path)\n",
    "model = AutoModelWithLMHead.from_pretrained(\"../HULK/Counterspeech/Saved_Models/Generator/Humour_dexpert_gpt2_humor/\",cache_dir=path)"
   ]
  },
  {
   "cell_type": "code",
   "execution_count": 41,
   "metadata": {},
   "outputs": [
    {
     "name": "stderr",
     "output_type": "stream",
     "text": [
      "/home/adarsh-binny/.conda/envs/csgen/lib/python3.7/site-packages/transformers/models/auto/modeling_auto.py:970: FutureWarning: The class `AutoModelWithLMHead` is deprecated and will be removed in a future version. Please use `AutoModelForCausalLM` for causal language models, `AutoModelForMaskedLM` for masked language models and `AutoModelForSeq2SeqLM` for encoder-decoder models.\n",
      "  FutureWarning,\n"
     ]
    }
   ],
   "source": [
    "from transformers import AutoModelWithLMHead, AutoTokenizer\n",
    "import torch\n",
    "\n",
    "tokenizer = AutoTokenizer.from_pretrained(\"gpt2\",cache_dir=path)\n",
    "model = AutoModelWithLMHead.from_pretrained(\"gpt2\",cache_dir=path)"
   ]
  },
  {
   "cell_type": "code",
   "execution_count": null,
   "metadata": {},
   "outputs": [],
   "source": [
    "tokenizer.convert_tokens_to_ids"
   ]
  },
  {
   "cell_type": "code",
   "execution_count": 2,
   "metadata": {},
   "outputs": [],
   "source": [
    "import pandas as pd\n",
    "df=pd.read_csv('../HULK/Counterspeech/Datasets/Politeness/Val.csv')"
   ]
  },
  {
   "cell_type": "code",
   "execution_count": 3,
   "metadata": {},
   "outputs": [
    {
     "data": {
      "text/html": [
       "<div>\n",
       "<style scoped>\n",
       "    .dataframe tbody tr th:only-of-type {\n",
       "        vertical-align: middle;\n",
       "    }\n",
       "\n",
       "    .dataframe tbody tr th {\n",
       "        vertical-align: top;\n",
       "    }\n",
       "\n",
       "    .dataframe thead th {\n",
       "        text-align: right;\n",
       "    }\n",
       "</style>\n",
       "<table border=\"1\" class=\"dataframe\">\n",
       "  <thead>\n",
       "    <tr style=\"text-align: right;\">\n",
       "      <th></th>\n",
       "      <th>text</th>\n",
       "      <th>labels</th>\n",
       "    </tr>\n",
       "  </thead>\n",
       "  <tbody>\n",
       "    <tr>\n",
       "      <th>0</th>\n",
       "      <td>(01-121) Proposed Amendment to COMEX Gold Supp...</td>\n",
       "      <td>non_polite</td>\n",
       "    </tr>\n",
       "    <tr>\n",
       "      <th>1</th>\n",
       "      <td>approved assayers for gold ledoux &amp; company 35...</td>\n",
       "      <td>non_polite</td>\n",
       "    </tr>\n",
       "    <tr>\n",
       "      <th>2</th>\n",
       "      <td>( assayers ) ltd. caddick road knowsley indust...</td>\n",
       "      <td>non_polite</td>\n",
       "    </tr>\n",
       "    <tr>\n",
       "      <th>3</th>\n",
       "      <td>a h knight eccleston grange prescot road st</td>\n",
       "      <td>non_polite</td>\n",
       "    </tr>\n",
       "    <tr>\n",
       "      <th>4</th>\n",
       "      <td>approved assayers for silver ledoux &amp; company 359</td>\n",
       "      <td>non_polite</td>\n",
       "    </tr>\n",
       "    <tr>\n",
       "      <th>...</th>\n",
       "      <td>...</td>\n",
       "      <td>...</td>\n",
       "    </tr>\n",
       "    <tr>\n",
       "      <th>137505</th>\n",
       "      <td>network segment -- perhaps nahou - sqgn02p and...</td>\n",
       "      <td>non_polite</td>\n",
       "    </tr>\n",
       "    <tr>\n",
       "      <th>137506</th>\n",
       "      <td>performance might be related to disk backups -...</td>\n",
       "      <td>non_polite</td>\n",
       "    </tr>\n",
       "    <tr>\n",
       "      <th>137507</th>\n",
       "      <td>other processes might be gobbling up resources...</td>\n",
       "      <td>non_polite</td>\n",
       "    </tr>\n",
       "    <tr>\n",
       "      <th>137508</th>\n",
       "      <td>thanks for visiting with us today .</td>\n",
       "      <td>polite</td>\n",
       "    </tr>\n",
       "    <tr>\n",
       "      <th>137509</th>\n",
       "      <td>the attached has louise 's comments to section...</td>\n",
       "      <td>non_polite</td>\n",
       "    </tr>\n",
       "  </tbody>\n",
       "</table>\n",
       "<p>137510 rows × 2 columns</p>\n",
       "</div>"
      ],
      "text/plain": [
       "                                                     text      labels\n",
       "0       (01-121) Proposed Amendment to COMEX Gold Supp...  non_polite\n",
       "1       approved assayers for gold ledoux & company 35...  non_polite\n",
       "2       ( assayers ) ltd. caddick road knowsley indust...  non_polite\n",
       "3             a h knight eccleston grange prescot road st  non_polite\n",
       "4       approved assayers for silver ledoux & company 359  non_polite\n",
       "...                                                   ...         ...\n",
       "137505  network segment -- perhaps nahou - sqgn02p and...  non_polite\n",
       "137506  performance might be related to disk backups -...  non_polite\n",
       "137507  other processes might be gobbling up resources...  non_polite\n",
       "137508                thanks for visiting with us today .      polite\n",
       "137509  the attached has louise 's comments to section...  non_polite\n",
       "\n",
       "[137510 rows x 2 columns]"
      ]
     },
     "execution_count": 3,
     "metadata": {},
     "output_type": "execute_result"
    }
   ],
   "source": [
    "df"
>>>>>>> ee3441ef3f5082a2baa730da1ac3546184891c45
   ]
  },
  {
   "cell_type": "code",
   "execution_count": null,
   "metadata": {},
   "outputs": [],
   "source": [
    "conditioned_tokens = []\n",
    "generated_tokens = []\n",
    "past = None\n",
    "fst = True\n",
    "DELIMITER = \"/n\"\n",
    "\n",
    "def reinput(user_msg):\n",
    "    global conditioned_tokens; global fst\n",
    "    os.system('cls' if os.name == 'nt' else 'clear')\n",
    "\n",
    "    conditioned_tokens = tokenizer.decode(conditioned_tokens)\n",
    "\n",
    "    print(\"Me: \" + user_msg + \"\\n\" + \"Bot: \",end='')\n",
    "\n",
    "    if fst:\n",
    "      fst = False\n",
    "      user_msg = \"<|endoftext|>\" + user_msg\n",
    "\n",
    "    user_msg = \"\" + user_msg\n",
    "    conditioned_tokens += user_msg \n",
    "    conditioned_tokens = tokenizer.encode(conditioned_tokens) \n",
    "    conditioned_tokens += [50256] # Append operator to prepend conversation history\n",
    "\n",
    "\n",
    "\n",
    "def top_p_filtering(logits, top_p=0.9, filter_value=-float('Inf')):\n",
    "  \"\"\"\n",
    "  Credit: https://gist.github.com/thomwolf/1a5a29f6962089e871b94cbd09daf317\n",
    "  \"\"\"\n",
    "  assert logits.dim() == 1  # batch size 1 for single word generation\n",
    "  sorted_logits, sorted_indices = torch.sort(logits, descending=True)\n",
    "  cumulative_probs = torch.cumsum(F.softmax(sorted_logits, dim=-1), dim=-1)\n",
    "  # remove tokens with cumulative probability above the threshold\n",
    "  sorted_indices_to_remove = cumulative_probs > top_p\n",
    "  # shift the indices to the right to keep also the first token above the threshold\n",
    "  sorted_indices_to_remove[..., 1:] = sorted_indices_to_remove[..., :-1].clone()\n",
    "  sorted_indices_to_remove[..., 0] = 0\n",
    "  indices_to_remove = sorted_indices[sorted_indices_to_remove]\n",
    "  logits[indices_to_remove] = filter_value\n",
    "  return logits\n",
    "\n",
    "\n",
    "def recalc(p=None):\n",
    "    global conditioned_tokens\n",
    "    global generated_tokens\n",
    "    global past\n",
    "\n",
    "    # for segment display purpose, keep 2 sets of tokens\n",
    "    indexed_tokens = conditioned_tokens + generated_tokens\n",
    "\n",
    "    tokens_tensor = torch.tensor([indexed_tokens])\n",
    "\n",
    "    #tokens_tensor = tokens_tensor\n",
    "    with torch.no_grad():\n",
    "        outputs = model(tokens_tensor)\n",
    "        predictions = outputs[0]\n",
    "    logits = predictions[0, -1, :]\n",
    "    filtered_logits = top_p_filtering(logits)\n",
    "    probabilities = F.softmax(filtered_logits, dim=-1)\n",
    "    next_token = torch.multinomial(probabilities, 1)\n",
    "    generated_tokens.append(next_token.item())\n",
    "    return next_token.item()\n",
    "\n",
    "def generate():\n",
    "    global conditioned_tokens\n",
    "    global generated_tokens\n",
    "    global past\n",
    "\n",
    "    while True:\n",
    "        if len(tokenizer.decode(conditioned_tokens)) > 320:\n",
    "          dc = tokenizer.decode(conditioned_tokens)\n",
    "          dc = dc[len(dc)-320:]\n",
    "          idx = dc.find(DELIMITER)\n",
    "          if idx != -1:\n",
    "            dc = dc[idx+len(DELIMITER):]\n",
    "            conditioned_tokens = tokenizer.encode(dc)\n",
    "\n",
    "        result = recalc()\n",
    "\n",
    "        if result == 50256:\n",
    "\n",
    "      # end-of-text : 50256\n",
    "      # use this special token to split segments\n",
    "\n",
    "            decoded_reply = tokenizer.decode(generated_tokens)\n",
    "\n",
    "            to_print = decoded_reply\n",
    "            if to_print.endswith(\"<|endoftext|>\"):\n",
    "              to_print = to_print[:-len(\"<|endoftext|>\")]\n",
    "              decoded_reply = to_print\n",
    "            print(to_print)\n",
    "\n",
    "            decoded_reply = \"\" + decoded_reply\n",
    "            decoded_reply = decoded_reply+DELIMITER\n",
    "            conditioned_tokens += (tokenizer.encode(decoded_reply))\n",
    "\n",
    "            # Remove end of text tokens from feeding back into model\n",
    "      # -- see here for reason https://github.com/huggingface/transformers/issues/429#issuecomment-479380117\n",
    "            cond_str = tokenizer.decode(conditioned_tokens)\n",
    "            cond_str = cond_str.replace(\"<|endoftext|>\",DELIMITER) # Since \"<end-of-text> (50256)\" is mapped to the newline character (\\n) by default when calling decode():\n",
    "            conditioned_tokens = tokenizer.encode(cond_str)\n",
    "\n",
    "    # Uncomment to debug (print) conversation history that is re-fed to the model\n",
    "    # cond_str = tokenizer.decode(conditioned_tokens)\n",
    "    # cond_str = cond_str.replace(\"<|endoftext_|>\",\"\\n\").replace(DELIMITER,\"\\n\") # Since \"<end-of-text> (50256)\" is mapped to the newline character (\\n) by default when calling decode():\n",
    "    # print(\"(condstr_dbg) \" + cond_str)\n",
    "    # print(r\"(/constr_dbg)\")\n",
    "\n",
    "            generated_tokens = []\n",
    "            break"
   ]
  },
  {
   "cell_type": "code",
   "execution_count": null,
   "metadata": {},
   "outputs": [],
   "source": [
    "from IPython.display import clear_output\n",
    "import logging\n",
    "\n",
    "from IPython.display import clear_output\n",
    "import logging\n",
    "\n",
    "def new_dialogue():\n",
    "\n",
    "  global conditioned_tokens\n",
    "  global generated_tokens\n",
    "  global past; global fst\n",
    "  \n",
    "  conditioned_tokens = []; generated_tokens = []; past = None; fst = True\n",
    "  reinput(\"What is the meaning of life?\")\n",
    "  generate()\n",
    "\n",
    "  while True:\n",
    "    cmd = input()\n",
    "\n",
    "    if cmd == \"reset\":\n",
    "      clear_output()\n",
    "      new_dialogue()\n",
    "      break\n",
    "\n",
    "    if cmd != \"\":\n",
    "      reinput(cmd)\n",
    "    generate()\n",
    "    "
   ]
  },
  {
   "cell_type": "code",
   "execution_count": 61,
   "metadata": {},
   "outputs": [],
   "source": [
    "from transformers import AutoModelWithLMHead, AutoTokenizer,AutoModelForCausalLM\n",
    "import torch\n",
    "\n",
    "tokenizer = AutoTokenizer.from_pretrained(\"../HULK/Counterspeech/Saved_Models/Generator/CONAN_DialoGPT-medium/\",cache_dir=path)\n",
    "model = AutoModelForCausalLM.from_pretrained(\"../HULK/Counterspeech/Saved_Models/Generator/CONAN_DialoGPT-medium/\",cache_dir=path)"
   ]
  },
  {
   "cell_type": "code",
   "execution_count": 53,
   "metadata": {},
   "outputs": [],
   "source": [
    "# tokenizer = AutoTokenizer.from_pretrained(\"gpt2-medium\",cache_dir=path)\n",
    "# model = AutoModelForCausalLM.from_pretrained(\"gpt2-medium\",cache_dir=path)"
   ]
  },
  {
   "cell_type": "code",
   "execution_count": 64,
   "metadata": {},
   "outputs": [
    {
     "name": "stdout",
     "output_type": "stream",
     "text": [
      "Lets deport the blacks to their country <|endoftext|>i think you mean muslims. they are not a race. but i do agree that this is an awful idea. we should stop accepting people from all walks of life, including those that are different from us.<|endoftext|>\n"
     ]
    }
   ],
   "source": [
    "sentence = \"Lets deport the blacks to their country <|endoftext|>\"\n",
    "input_ids = tokenizer.encode(sentence,truncation=True,max_length=256,return_tensors='pt') \n",
    "\n",
    "####### greedy_Decoding ######\n",
    "beam_outputs = model.generate(\n",
    "\n",
    "    input_ids, \n",
    "    pad_token_id         = tokenizer.eos_token_id,\n",
    "    max_length           = 100,\n",
    "    min_length           = 50,\n",
    "    top_k                = 1000,\n",
    "    top_p                = 0.92,\n",
    "    repetition_penalty   = 3.5,\n",
    "    temperature          = 2.0,\n",
    "#             num_beams            = args['num_beans'], \n",
    "     no_repeat_ngram_size =3,  \n",
    "#             early_stopping       = args['early_stopping']\n",
    ")\n",
    "reply = tokenizer.decode(beam_outputs[0])\n",
    "print(reply)"
   ]
  },
  {
   "cell_type": "code",
   "execution_count": 13,
   "metadata": {},
   "outputs": [
    {
     "data": {
      "text/plain": [
       "tensor([[ 5492,   220,  1312,   262,   479,   288,   366,   257,   275,   517,\n",
       "           649,  3381,  1271,   717,  1468,   532,   530,  1353,   355,  1267,\n",
       "         50256]])"
      ]
     },
     "execution_count": 13,
     "metadata": {},
     "output_type": "execute_result"
    }
   ],
   "source": [
    "beam_outputs"
   ]
  },
  {
   "cell_type": "code",
   "execution_count": 22,
   "metadata": {},
   "outputs": [
    {
     "data": {
      "text/plain": [
       "tensor([[5492]])"
      ]
     },
     "execution_count": 22,
     "metadata": {},
     "output_type": "execute_result"
    }
   ],
   "source": [
    "input_ids"
   ]
  },
  {
   "cell_type": "code",
   "execution_count": 33,
   "metadata": {},
   "outputs": [],
   "source": [
    "inputs=[425, 925, 428, 6576, 3912, 780, 545, 262, 1611, 286, 34249, 396, 326, 722,\n",
    "8, 257, 3912, 673, 7832, 290, 1838, 340, 625, 290, 625, 290, 1312, 892, 26,\n",
    "2, 5103, 319, 428, 6576, 318, 617, 286, 262, 1266, 220, 425, 1683, 1760, 5,\n",
    "23, 4203, 2495, 10607, 351, 3589, 546, 326]\n",
    "\n",
    "inputs = [72, 716, 1682, 4203, 2495, 9480, 3608, 290, 7723, 2845, 329, 262, 7009, 2,300, 286, 19553, 508, 1394, 4917, 511, 835, 656, 616, 2156]    "
   ]
  },
  {
   "cell_type": "code",
   "execution_count": 34,
   "metadata": {},
   "outputs": [
    {
     "data": {
      "text/plain": [
       "['i',\n",
       " 'Ġam',\n",
       " 'Ġactually',\n",
       " 'Ġfeeling',\n",
       " 'Ġpretty',\n",
       " 'Ġcalm',\n",
       " 'Ġcool',\n",
       " 'Ġand',\n",
       " 'Ġcollected',\n",
       " 'Ġexcept',\n",
       " 'Ġfor',\n",
       " 'Ġthe',\n",
       " 'Ġtiny',\n",
       " '#',\n",
       " 'Ġl',\n",
       " 'Ġof',\n",
       " 'Ġbats',\n",
       " 'Ġwho',\n",
       " 'Ġkeep',\n",
       " 'Ġfinding',\n",
       " 'Ġtheir',\n",
       " 'Ġway',\n",
       " 'Ġinto',\n",
       " 'Ġmy',\n",
       " 'Ġhouse']"
      ]
     },
     "execution_count": 34,
     "metadata": {},
     "output_type": "execute_result"
    }
   ],
   "source": [
    "tokenizer.convert_ids_to_tokens(inputs)"
   ]
  },
  {
   "cell_type": "code",
   "execution_count": null,
   "metadata": {},
   "outputs": [],
   "source": []
  }
 ],
 "metadata": {
  "kernelspec": {
   "display_name": "Python [conda env:.conda-csgen] *",
   "language": "python",
   "name": "conda-env-.conda-csgen-py"
  },
  "language_info": {
   "codemirror_mode": {
    "name": "ipython",
    "version": 3
   },
   "file_extension": ".py",
   "mimetype": "text/x-python",
   "name": "python",
   "nbconvert_exporter": "python",
   "pygments_lexer": "ipython3",
   "version": "3.7.7"
  }
 },
 "nbformat": 4,
 "nbformat_minor": 4
}
