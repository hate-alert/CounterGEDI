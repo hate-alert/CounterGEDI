{
 "cells": [
  {
   "cell_type": "code",
   "execution_count": null,
   "metadata": {},
   "outputs": [],
   "source": [
    "import os\n",
    "import torch\n",
    "import torch.nn.functional as F\n",
    "from transformers import GPT2Tokenizer, GPT2LMHeadModel, GPT2Config\n",
    "import numpy as np\n",
    "path = '/home/adarsh-binny/HULK/Saved_models/'"
   ]
  },
  {
   "cell_type": "code",
   "execution_count": null,
   "metadata": {},
   "outputs": [],
   "source": [
    "from transformers import AutoModelWithLMHead, AutoTokenizer\n",
    "import torch\n",
    "\n",
    "tokenizer = AutoTokenizer.from_pretrained(\"../HULK/Counterspeech/models/createdebate_model\",cache_dir=path)\n",
    "model = AutoModelWithLMHead.from_pretrained(\"../HULK/Counterspeech/models/createdebate_model\",cache_dir=path)"
   ]
  },
  {
   "cell_type": "code",
   "execution_count": null,
   "metadata": {},
   "outputs": [],
   "source": [
    "model.eval()"
   ]
  },
  {
   "cell_type": "code",
   "execution_count": null,
   "metadata": {},
   "outputs": [],
   "source": [
    "conditioned_tokens = []\n",
    "generated_tokens = []\n",
    "past = None\n",
    "fst = True\n",
    "DELIMITER = \"/n\"\n",
    "\n",
    "def reinput(user_msg):\n",
    "    global conditioned_tokens; global fst\n",
    "    os.system('cls' if os.name == 'nt' else 'clear')\n",
    "\n",
    "    conditioned_tokens = tokenizer.decode(conditioned_tokens)\n",
    "\n",
    "    print(\"Me: \" + user_msg + \"\\n\" + \"Bot: \",end='')\n",
    "\n",
    "    if fst:\n",
    "      fst = False\n",
    "      user_msg = \"<|endoftext|>\" + user_msg\n",
    "\n",
    "    user_msg = \"\" + user_msg\n",
    "    conditioned_tokens += user_msg \n",
    "    conditioned_tokens = tokenizer.encode(conditioned_tokens) \n",
    "    conditioned_tokens += [50256] # Append operator to prepend conversation history\n",
    "\n",
    "\n",
    "\n",
    "def top_p_filtering(logits, top_p=0.9, filter_value=-float('Inf')):\n",
    "  \"\"\"\n",
    "  Credit: https://gist.github.com/thomwolf/1a5a29f6962089e871b94cbd09daf317\n",
    "  \"\"\"\n",
    "  assert logits.dim() == 1  # batch size 1 for single word generation\n",
    "  sorted_logits, sorted_indices = torch.sort(logits, descending=True)\n",
    "  cumulative_probs = torch.cumsum(F.softmax(sorted_logits, dim=-1), dim=-1)\n",
    "  # remove tokens with cumulative probability above the threshold\n",
    "  sorted_indices_to_remove = cumulative_probs > top_p\n",
    "  # shift the indices to the right to keep also the first token above the threshold\n",
    "  sorted_indices_to_remove[..., 1:] = sorted_indices_to_remove[..., :-1].clone()\n",
    "  sorted_indices_to_remove[..., 0] = 0\n",
    "  indices_to_remove = sorted_indices[sorted_indices_to_remove]\n",
    "  logits[indices_to_remove] = filter_value\n",
    "  return logits\n",
    "\n",
    "\n",
    "def recalc(p=None):\n",
    "    global conditioned_tokens\n",
    "    global generated_tokens\n",
    "    global past\n",
    "\n",
    "    # for segment display purpose, keep 2 sets of tokens\n",
    "    indexed_tokens = conditioned_tokens + generated_tokens\n",
    "\n",
    "    tokens_tensor = torch.tensor([indexed_tokens])\n",
    "\n",
    "    #tokens_tensor = tokens_tensor\n",
    "    with torch.no_grad():\n",
    "        outputs = model(tokens_tensor)\n",
    "        predictions = outputs[0]\n",
    "    logits = predictions[0, -1, :]\n",
    "    filtered_logits = top_p_filtering(logits)\n",
    "    probabilities = F.softmax(filtered_logits, dim=-1)\n",
    "    next_token = torch.multinomial(probabilities, 1)\n",
    "    generated_tokens.append(next_token.item())\n",
    "    return next_token.item()\n",
    "\n",
    "def generate():\n",
    "    global conditioned_tokens\n",
    "    global generated_tokens\n",
    "    global past\n",
    "\n",
    "    while True:\n",
    "        if len(tokenizer.decode(conditioned_tokens)) > 320:\n",
    "          dc = tokenizer.decode(conditioned_tokens)\n",
    "          dc = dc[len(dc)-320:]\n",
    "          idx = dc.find(DELIMITER)\n",
    "          if idx != -1:\n",
    "            dc = dc[idx+len(DELIMITER):]\n",
    "            conditioned_tokens = tokenizer.encode(dc)\n",
    "\n",
    "        result = recalc()\n",
    "\n",
    "        if result == 50256:\n",
    "\n",
    "      # end-of-text : 50256\n",
    "      # use this special token to split segments\n",
    "\n",
    "            decoded_reply = tokenizer.decode(generated_tokens)\n",
    "\n",
    "            to_print = decoded_reply\n",
    "            if to_print.endswith(\"<|endoftext|>\"):\n",
    "              to_print = to_print[:-len(\"<|endoftext|>\")]\n",
    "              decoded_reply = to_print\n",
    "            print(to_print)\n",
    "\n",
    "            decoded_reply = \"\" + decoded_reply\n",
    "            decoded_reply = decoded_reply+DELIMITER\n",
    "            conditioned_tokens += (tokenizer.encode(decoded_reply))\n",
    "\n",
    "            # Remove end of text tokens from feeding back into model\n",
    "      # -- see here for reason https://github.com/huggingface/transformers/issues/429#issuecomment-479380117\n",
    "            cond_str = tokenizer.decode(conditioned_tokens)\n",
    "            cond_str = cond_str.replace(\"<|endoftext|>\",DELIMITER) # Since \"<end-of-text> (50256)\" is mapped to the newline character (\\n) by default when calling decode():\n",
    "            conditioned_tokens = tokenizer.encode(cond_str)\n",
    "\n",
    "    # Uncomment to debug (print) conversation history that is re-fed to the model\n",
    "    # cond_str = tokenizer.decode(conditioned_tokens)\n",
    "    # cond_str = cond_str.replace(\"<|endoftext_|>\",\"\\n\").replace(DELIMITER,\"\\n\") # Since \"<end-of-text> (50256)\" is mapped to the newline character (\\n) by default when calling decode():\n",
    "    # print(\"(condstr_dbg) \" + cond_str)\n",
    "    # print(r\"(/constr_dbg)\")\n",
    "\n",
    "            generated_tokens = []\n",
    "            break"
   ]
  },
  {
   "cell_type": "code",
   "execution_count": null,
   "metadata": {},
   "outputs": [],
   "source": [
    "from IPython.display import clear_output\n",
    "import logging\n",
    "\n",
    "from IPython.display import clear_output\n",
    "import logging\n",
    "\n",
    "def new_dialogue():\n",
    "\n",
    "  global conditioned_tokens\n",
    "  global generated_tokens\n",
    "  global past; global fst\n",
    "  \n",
    "  conditioned_tokens = []; generated_tokens = []; past = None; fst = True\n",
    "  reinput(\"What is the meaning of life?\")\n",
    "  generate()\n",
    "\n",
    "  while True:\n",
    "    cmd = input()\n",
    "\n",
    "    if cmd == \"reset\":\n",
    "      clear_output()\n",
    "      new_dialogue()\n",
    "      break\n",
    "\n",
    "    if cmd != \"\":\n",
    "      reinput(cmd)\n",
    "    generate()\n",
    "    "
   ]
  },
  {
   "cell_type": "code",
   "execution_count": null,
   "metadata": {},
   "outputs": [],
   "source": [
    "new_dialogue()"
   ]
  },
  {
   "cell_type": "code",
   "execution_count": 2,
   "metadata": {},
   "outputs": [
    {
     "name": "stderr",
     "output_type": "stream",
     "text": [
      "WARNING: There is a new version of neptune-client 0.9.1 (installed: 0.9.0).\n"
     ]
    },
    {
     "name": "stdout",
     "output_type": "stream",
     "text": [
      "https://app.neptune.ai/Hatespeech-CNERG/Counterspeech-generation/e/COUNTER-2\n"
     ]
    }
   ],
   "source": [
    "import neptune.new as neptune\n",
    "from apiconfig import project_name,api_token\n",
    "\n",
    "run = neptune.init(project=project_name,api_token=api_token)\n",
    "\n",
    "# Track metadata and hyperparameters of your run\n",
    "run[\"JIRA\"] = \"NPT-952\"\n",
    "run[\"parameters\"] = {\"learning_rate\": 0.001,\n",
    "                     \"optimizer\": \"Adam\"}\n",
    "\n",
    "# Track the training process by logging your training metrics\n",
    "for epoch in range(100):\n",
    "   run[\"train/accuracy\"].log(epoch * 0.6)\n",
    "   run[\"train/loss\"].log(epoch * 0.4)\n",
    "\n",
    "run[\"f1_score\"] = 0.66\n",
    "run.stop()"
   ]
  },
  {
   "cell_type": "code",
   "execution_count": null,
   "metadata": {},
   "outputs": [],
   "source": [
    "!pip install neptune-client==0.9"
   ]
  },
  {
   "cell_type": "code",
   "execution_count": null,
   "metadata": {},
   "outputs": [],
   "source": []
  },
  {
   "cell_type": "code",
   "execution_count": 22,
   "metadata": {},
   "outputs": [
    {
     "name": "stderr",
     "output_type": "stream",
     "text": [
      "Setting `pad_token_id` to `eos_token_id`:50256 for open-end generation.\n"
     ]
    },
    {
     "name": "stdout",
     "output_type": "stream",
     "text": [
      " bit of a mess. I'm not sure if he's going\n",
      "======\n"
     ]
    },
    {
     "ename": "IndexError",
     "evalue": "index 1 is out of bounds for dimension 0 with size 1",
     "output_type": "error",
     "traceback": [
      "\u001b[0;31m---------------------------------------------------------------------------\u001b[0m",
      "\u001b[0;31mIndexError\u001b[0m                                Traceback (most recent call last)",
      "\u001b[0;32m<ipython-input-22-ea0dc400a627>\u001b[0m in \u001b[0;36m<module>\u001b[0;34m\u001b[0m\n\u001b[1;32m     25\u001b[0m \u001b[0;34m\u001b[0m\u001b[0m\n\u001b[1;32m     26\u001b[0m \u001b[0;32mfor\u001b[0m \u001b[0mi\u001b[0m \u001b[0;32min\u001b[0m \u001b[0mrange\u001b[0m\u001b[0;34m(\u001b[0m\u001b[0mlen\u001b[0m\u001b[0;34m(\u001b[0m\u001b[0msentences\u001b[0m\u001b[0;34m)\u001b[0m\u001b[0;34m)\u001b[0m\u001b[0;34m:\u001b[0m\u001b[0;34m\u001b[0m\u001b[0;34m\u001b[0m\u001b[0m\n\u001b[0;32m---> 27\u001b[0;31m     \u001b[0mprint\u001b[0m\u001b[0;34m(\u001b[0m\u001b[0mtokenizer\u001b[0m\u001b[0;34m.\u001b[0m\u001b[0mdecode\u001b[0m\u001b[0;34m(\u001b[0m\u001b[0moutput_sequences\u001b[0m\u001b[0;34m[\u001b[0m\u001b[0mi\u001b[0m\u001b[0;34m]\u001b[0m\u001b[0;34m,\u001b[0m\u001b[0mskip_special_tokens\u001b[0m\u001b[0;34m=\u001b[0m\u001b[0;32mTrue\u001b[0m\u001b[0;34m)\u001b[0m\u001b[0;34m[\u001b[0m\u001b[0mlen\u001b[0m\u001b[0;34m(\u001b[0m\u001b[0msentences\u001b[0m\u001b[0;34m[\u001b[0m\u001b[0mi\u001b[0m\u001b[0;34m]\u001b[0m\u001b[0;34m)\u001b[0m\u001b[0;34m:\u001b[0m\u001b[0;34m]\u001b[0m\u001b[0;34m)\u001b[0m\u001b[0;34m\u001b[0m\u001b[0;34m\u001b[0m\u001b[0m\n\u001b[0m\u001b[1;32m     28\u001b[0m     \u001b[0mprint\u001b[0m\u001b[0;34m(\u001b[0m\u001b[0;34m'======'\u001b[0m\u001b[0;34m)\u001b[0m\u001b[0;34m\u001b[0m\u001b[0;34m\u001b[0m\u001b[0m\n\u001b[1;32m     29\u001b[0m     \u001b[0;31m# you can use skip_special_tokens=True in decode() to remove padding token\u001b[0m\u001b[0;34m\u001b[0m\u001b[0;34m\u001b[0m\u001b[0;34m\u001b[0m\u001b[0m\n",
      "\u001b[0;31mIndexError\u001b[0m: index 1 is out of bounds for dimension 0 with size 1"
     ]
    }
   ],
   "source": [
    "from transformers import GPT2Tokenizer, GPT2LMHeadModel\n",
    "\n",
    "cache_path='../HULK/Saved_models/'\n",
    "\n",
    "tokenizer = GPT2Tokenizer.from_pretrained('gpt2',cache_dir=cache_path)\n",
    "model = GPT2LMHeadModel.from_pretrained('gpt2', return_dict=True,cache_dir=cache_path)\n",
    "\n",
    "# when generating, we will use the logits of right-most token to predict the next token\n",
    "# so the padding should be on the left\n",
    "tokenizer.padding_side = \"left\" \n",
    "tokenizer.pad_token = tokenizer.eos_token # to avoid an error\n",
    "\n",
    "\n",
    "sentences = [\"Hello, my dog is a little\",\n",
    "             \"Hello, my dog is\", # use different length sentences to test batching\n",
    "             \"Hello there \"\n",
    "            ]\n",
    "inputs = tokenizer.encode_plus(sentences[0],add_special_tokens=True,max_length=10, return_tensors=\"pt\", padding=True)\n",
    "\n",
    "\n",
    "output_sequences = model.generate(\n",
    "    input_ids=inputs['input_ids'],\n",
    "    attention_mask=inputs['attention_mask'],\n",
    "    do_sample=False, # disable sampling to test if batching affects output\n",
    ")\n",
    "\n",
    "for i in range(len(sentences)):\n",
    "    print(tokenizer.decode(output_sequences[i],skip_special_tokens=True)[len(sentences[i]):])\n",
    "    print('======')\n",
    "    # you can use skip_special_tokens=True in decode() to remove padding token\n",
    "    # but note that it will also remove other special_tokens\n",
    "\n"
   ]
  },
  {
   "cell_type": "code",
   "execution_count": 23,
   "metadata": {},
   "outputs": [
    {
     "data": {
      "text/plain": [
       "tensor([[1, 1, 1, 1, 1, 1, 1]])"
      ]
     },
     "execution_count": 23,
     "metadata": {},
     "output_type": "execute_result"
    }
   ],
   "source": [
    "inputs['attention_mask']"
   ]
  },
  {
   "cell_type": "code",
   "execution_count": 16,
   "metadata": {},
   "outputs": [
    {
     "data": {
      "text/plain": [
       "{'input_ids': tensor([[50256, 50256, 50256]]), 'attention_mask': tensor([[1, 1, 1]])}"
      ]
     },
     "execution_count": 16,
     "metadata": {},
     "output_type": "execute_result"
    }
   ],
   "source": [
    "inputs"
   ]
  },
  {
   "cell_type": "code",
   "execution_count": 29,
   "metadata": {},
   "outputs": [],
   "source": [
    "inputs = tokenizer(sentences,max_length=10, padding=True)\n"
   ]
  },
  {
   "cell_type": "code",
   "execution_count": 30,
   "metadata": {},
   "outputs": [
    {
     "data": {
      "text/plain": [
       "{'input_ids': [[15496, 11, 616, 3290, 318, 257, 1310], [50256, 50256, 15496, 11, 616, 3290, 318], [50256, 50256, 50256, 50256, 15496, 612, 220]], 'attention_mask': [[1, 1, 1, 1, 1, 1, 1], [0, 0, 1, 1, 1, 1, 1], [0, 0, 0, 0, 1, 1, 1]]}"
      ]
     },
     "execution_count": 30,
     "metadata": {},
     "output_type": "execute_result"
    }
   ],
   "source": [
    "inputs"
   ]
  },
  {
   "cell_type": "code",
   "execution_count": 26,
   "metadata": {},
   "outputs": [
    {
     "data": {
      "text/plain": [
       "['<|endoftext|>', '<|endoftext|>']"
      ]
     },
     "execution_count": 26,
     "metadata": {},
     "output_type": "execute_result"
    }
   ],
   "source": [
    "tokenizer.all_special_tokens"
   ]
  },
  {
   "cell_type": "code",
   "execution_count": null,
   "metadata": {},
   "outputs": [],
   "source": []
  }
 ],
 "metadata": {
  "kernelspec": {
   "display_name": "Python [conda env:.conda-csgen] *",
   "language": "python",
   "name": "conda-env-.conda-csgen-py"
  },
  "language_info": {
   "codemirror_mode": {
    "name": "ipython",
    "version": 3
   },
   "file_extension": ".py",
   "mimetype": "text/x-python",
   "name": "python",
   "nbconvert_exporter": "python",
   "pygments_lexer": "ipython3",
   "version": "3.7.7"
  }
 },
 "nbformat": 4,
 "nbformat_minor": 4
}
